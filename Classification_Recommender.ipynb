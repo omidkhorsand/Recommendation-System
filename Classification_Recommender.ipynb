{
 "cells": [
  {
   "cell_type": "code",
   "execution_count": 1,
   "metadata": {},
   "outputs": [],
   "source": [
    "import pandas as pd\n",
    "import numpy as np\n",
    "import random\n",
    "import matplotlib.pyplot as plt\n",
    "from sklearn.metrics import pairwise_distances "
   ]
  },
  {
   "cell_type": "code",
   "execution_count": 2,
   "metadata": {},
   "outputs": [],
   "source": [
    "follow_df = pd.read_csv(\"follows.csv\", header=0, names=['follower_id', 'followee_id'], dtype=np.int32)\n",
    "\n",
    "interest_df = pd.read_csv(\"interests.csv\", header=0, names=['user_id', 'category'], \n",
    "                          dtype={'user_id':np.int32, 'category':np.str})"
   ]
  },
  {
   "cell_type": "code",
   "execution_count": 3,
   "metadata": {},
   "outputs": [],
   "source": [
    "def strip(word):\n",
    "    return word.strip()\n",
    "\n",
    "# stripping spaces from strings in interest_df\n",
    "interest_df['category'] = interest_df['category'].apply(strip)\n"
   ]
  },
  {
   "cell_type": "code",
   "execution_count": 4,
   "metadata": {},
   "outputs": [],
   "source": [
    "follower_id = follow_df['follower_id']\n",
    "followee_id = follow_df['followee_id']\n",
    "interests_id = interest_df['user_id']\n",
    "\n",
    "follower_s = set(follower_id)\n",
    "followee_s = set(followee_id)\n",
    "interests_id_s = set(interests_id)\n",
    "\n",
    "# set of all user ids with no duplicates \n",
    "ids_s = follower_s | followee_s | interests_id_s\n"
   ]
  },
  {
   "cell_type": "code",
   "execution_count": 5,
   "metadata": {},
   "outputs": [],
   "source": [
    "# Building the ratings matrix \n",
    "n_users = len(ids_s) \n",
    "largest_id = max(ids_s)\n",
    "n_interests = interest_df['category'].nunique()"
   ]
  },
  {
   "cell_type": "code",
   "execution_count": 6,
   "metadata": {},
   "outputs": [],
   "source": [
    "# users relationship matrix\n",
    "user_mat = np.zeros((largest_id + 1, largest_id + 1))\n",
    "\n",
    "# ratings[i,j] = 1 if user i follows user j\n",
    "user_mat[follower_id, followee_id] = 1\n",
    "\n",
    "indices = np.array(list(ids_s))\n",
    "\n",
    "# only keeping the relevant rows and columns\n",
    "user_mat = user_mat[indices, :]\n",
    "user_mat = user_mat[:, indices]\n",
    "\n",
    "# defining a dataframe for ratings \n",
    "users_df = pd.DataFrame(data=user_mat, index=indices, columns=indices, dtype=np.int32)"
   ]
  },
  {
   "cell_type": "code",
   "execution_count": 8,
   "metadata": {},
   "outputs": [],
   "source": [
    "# users interest category matrix\n",
    "interest_df_grp = interest_df.groupby('user_id')['category'].apply(list)\n",
    "interests_list = list(set(interest_df['category']))\n",
    "\n",
    "cat_df = pd.DataFrame(np.zeros((n_users, n_interests)), index=users_df.index, \n",
    "                      columns=interests_list)\n",
    "\n",
    "for index in interest_df_grp.index:\n",
    "    for interest_cat in interest_df_grp[index]:\n",
    "        cat_df.loc[index, interest_cat] = 1\n",
    "\n",
    "cat_df = cat_df.astype(int)"
   ]
  },
  {
   "cell_type": "code",
   "execution_count": 9,
   "metadata": {},
   "outputs": [],
   "source": [
    "ratings_df = pd.concat([users_df, cat_df], axis=1)"
   ]
  },
  {
   "cell_type": "code",
   "execution_count": null,
   "metadata": {},
   "outputs": [],
   "source": [
    "def similarity(df):\n",
    "    \"\"\"Returns the similarities\"\"\"\n",
    "    \n",
    "    # calculate jaccard distances between users\n",
    "    dist = pairwise_distances(df, metric='jaccard')\n",
    "    \n",
    "    # set division by zero nan values to the maximum value i.e 1\n",
    "    dist[np.isnan(dist)] = 1\n",
    "    \n",
    "    #calculate similarities\n",
    "    sim = 1 - dist\n",
    "    sim = sim/sim.sum(axis=1)[:, None]\n",
    "    \n",
    "    # create the similarity dataframe\n",
    "    p = pd.DataFrame(sim, index=df.index, columns=df.index)\n",
    "    \n",
    "    return p\n",
    "\n",
    "#similarity based on following other users\n",
    "jaccard1 = similarity(users_df)\n",
    "#similarity based on being followed\n",
    "jaccard2 = similarity(users_df.T)\n",
    "#similarity based on interests\n",
    "jaccard3 = similarity(cat_df)"
   ]
  },
  {
   "cell_type": "code",
   "execution_count": 11,
   "metadata": {},
   "outputs": [
    {
     "name": "stdout",
     "output_type": "stream",
     "text": [
      "number of unique combinations for target 1's are:  37809\n"
     ]
    }
   ],
   "source": [
    "#creating the user combinations based on target 1's \n",
    "users_df[users_df == 1]\n",
    "users_1_List = users_df.where(users_df == 1).stack().index.values.tolist()\n",
    "\n",
    "#removing duplicates\n",
    "sorted_tuples = [ tuple(sorted(t)) for t in users_1_List ]\n",
    "users_1_List = list(set(sorted_tuples))\n",
    "print(\"number of unique combinations for target 1's are: \" , len(users_1_List))"
   ]
  },
  {
   "cell_type": "code",
   "execution_count": 15,
   "metadata": {
    "scrolled": true
   },
   "outputs": [
    {
     "name": "stdout",
     "output_type": "stream",
     "text": [
      "number of unique combinations for target 0's are:  6436793\n"
     ]
    }
   ],
   "source": [
    "#creating the user combinations based on target 0's \n",
    "users_df2 = users_df.T\n",
    "u = users_df2+users_df\n",
    "users_0_List = u.where(u == 0).stack().index.values.tolist()\n",
    "\n",
    "#deducting diagonals\n",
    "non_diagonals = [(lambda x,y: x == y)(x,y) for (x,y) in users_0_List]\n",
    "users_0_List = [users_0_List[i] for i in range(len(users_0_List)) if non_diagonals[i] == False]\n",
    "\n",
    "#removing duplicates\n",
    "sorted_tuples = [ tuple(sorted(t)) for t in users_0_List]\n",
    "users_0_List = list(set(sorted_tuples))\n",
    "print(\"number of unique combinations for target 0's are: \" , len(users_0_List))"
   ]
  },
  {
   "cell_type": "code",
   "execution_count": 16,
   "metadata": {},
   "outputs": [],
   "source": [
    "#randomly selecting the target 0's\n",
    "import random\n",
    "index = random.sample(range(len(users_0_List)), len(users_1_List))\n",
    "users_0_List = [users_0_List[i] for i in index]\n",
    "users_list = users_1_List + users_0_List"
   ]
  },
  {
   "cell_type": "code",
   "execution_count": 17,
   "metadata": {},
   "outputs": [],
   "source": [
    "target_0 = [0]*(len(users_1_List))\n",
    "target_1 = [1]*(len(users_1_List))\n",
    "target_list = target_1 + target_0"
   ]
  },
  {
   "cell_type": "code",
   "execution_count": 18,
   "metadata": {},
   "outputs": [],
   "source": [
    "jaccard1_list = []\n",
    "jaccard2_list = []\n",
    "jaccard3_list = []\n",
    "\n",
    "for (x,y) in users_list:\n",
    "    jaccard1_list.append(jaccard1.loc[x,y])\n",
    "    jaccard2_list.append(jaccard2.loc[x,y])\n",
    "    jaccard3_list.append(jaccard3.loc[x,y])"
   ]
  },
  {
   "cell_type": "code",
   "execution_count": 19,
   "metadata": {
    "scrolled": true
   },
   "outputs": [
    {
     "name": "stdout",
     "output_type": "stream",
     "text": [
      "75618\n",
      "75618\n",
      "75618\n",
      "75618\n",
      "75618\n"
     ]
    }
   ],
   "source": [
    "#checking before creating the training set dataframe\n",
    "print(len(jaccard1_list))\n",
    "print(len(jaccard2_list))\n",
    "print(len(jaccard3_list))\n",
    "print(len(target_list))\n",
    "print(len(users_list))\n"
   ]
  },
  {
   "cell_type": "code",
   "execution_count": 21,
   "metadata": {},
   "outputs": [
    {
     "data": {
      "text/html": [
       "<div>\n",
       "<style scoped>\n",
       "    .dataframe tbody tr th:only-of-type {\n",
       "        vertical-align: middle;\n",
       "    }\n",
       "\n",
       "    .dataframe tbody tr th {\n",
       "        vertical-align: top;\n",
       "    }\n",
       "\n",
       "    .dataframe thead th {\n",
       "        text-align: right;\n",
       "    }\n",
       "</style>\n",
       "<table border=\"1\" class=\"dataframe\">\n",
       "  <thead>\n",
       "    <tr style=\"text-align: right;\">\n",
       "      <th></th>\n",
       "      <th>Jaccard1</th>\n",
       "      <th>Jaccard2</th>\n",
       "      <th>Jaccard3</th>\n",
       "      <th>targets</th>\n",
       "    </tr>\n",
       "  </thead>\n",
       "  <tbody>\n",
       "    <tr>\n",
       "      <th>(196, 6216)</th>\n",
       "      <td>0.000021</td>\n",
       "      <td>0.000137</td>\n",
       "      <td>0.000132</td>\n",
       "      <td>1</td>\n",
       "    </tr>\n",
       "    <tr>\n",
       "      <th>(1488, 1924)</th>\n",
       "      <td>0.000140</td>\n",
       "      <td>0.000309</td>\n",
       "      <td>0.000382</td>\n",
       "      <td>1</td>\n",
       "    </tr>\n",
       "    <tr>\n",
       "      <th>(1358, 2418)</th>\n",
       "      <td>0.000016</td>\n",
       "      <td>0.000021</td>\n",
       "      <td>0.000202</td>\n",
       "      <td>1</td>\n",
       "    </tr>\n",
       "    <tr>\n",
       "      <th>(36, 4912)</th>\n",
       "      <td>0.000159</td>\n",
       "      <td>0.000184</td>\n",
       "      <td>0.000000</td>\n",
       "      <td>1</td>\n",
       "    </tr>\n",
       "    <tr>\n",
       "      <th>(2746, 3042)</th>\n",
       "      <td>0.000525</td>\n",
       "      <td>0.000376</td>\n",
       "      <td>0.000423</td>\n",
       "      <td>1</td>\n",
       "    </tr>\n",
       "  </tbody>\n",
       "</table>\n",
       "</div>"
      ],
      "text/plain": [
       "              Jaccard1  Jaccard2  Jaccard3  targets\n",
       "(196, 6216)   0.000021  0.000137  0.000132        1\n",
       "(1488, 1924)  0.000140  0.000309  0.000382        1\n",
       "(1358, 2418)  0.000016  0.000021  0.000202        1\n",
       "(36, 4912)    0.000159  0.000184  0.000000        1\n",
       "(2746, 3042)  0.000525  0.000376  0.000423        1"
      ]
     },
     "execution_count": 21,
     "metadata": {},
     "output_type": "execute_result"
    }
   ],
   "source": [
    "#building the dataframe for training data and labels\n",
    "training_pd = pd.DataFrame({'Jaccard1': jaccard1_list,\n",
    "                            'Jaccard2': jaccard2_list,\n",
    "                            'Jaccard3': jaccard3_list,\n",
    "                             'targets': target_list}, index=users_list)\n",
    "training_pd.head()"
   ]
  },
  {
   "cell_type": "code",
   "execution_count": 23,
   "metadata": {},
   "outputs": [
    {
     "name": "stderr",
     "output_type": "stream",
     "text": [
      "C:\\Users\\Samini\\Anaconda3\\lib\\site-packages\\sklearn\\linear_model\\logistic.py:432: FutureWarning: Default solver will be changed to 'lbfgs' in 0.22. Specify a solver to silence this warning.\n",
      "  FutureWarning)\n",
      "C:\\Users\\Samini\\Anaconda3\\lib\\site-packages\\sklearn\\utils\\validation.py:752: DataConversionWarning: A column-vector y was passed when a 1d array was expected. Please change the shape of y to (n_samples, ), for example using ravel().\n",
      "  y = column_or_1d(y, warn=True)\n"
     ]
    },
    {
     "data": {
      "image/png": "[encoded data removed]",
      "text/plain": [
       "<Figure size 432x288 with 1 Axes>"
      ]
     },
     "metadata": {},
     "output_type": "display_data"
    }
   ],
   "source": [
    "# Training and Testing the Classification Model\n",
    "\n",
    "from sklearn.linear_model import LogisticRegression\n",
    "from sklearn.model_selection import train_test_split\n",
    "from sklearn.metrics import roc_curve, auc\n",
    "import matplotlib.pyplot as plt\n",
    "from sklearn.externals import joblib\n",
    "\n",
    "#Segregating into feature and target set\n",
    "feature = training_pd.iloc[:,:3]\n",
    "target = training_pd.iloc[:,3:]\n",
    "\n",
    "\n",
    "# Splitting the data into training and test data\n",
    "x_train, x_test, y_train, y_test = train_test_split(feature, target, test_size=0.2, random_state=0)\n",
    "\n",
    "# We shall run the Logistic Regression Model as the targets are binary\n",
    "logReg = LogisticRegression()\n",
    "\n",
    "logReg.fit(x_train, y_train)\n",
    "#saving the model\n",
    "joblib.dump(logReg, 'logistic.joblib')\n",
    "\n",
    "# Ruuning the model on the data and computing the probabilities\n",
    "y_prob = logReg.predict_proba(x_test)[:,1]\n",
    "\n",
    "# Plotting the ROC Curve\n",
    "FPR, TPR, Thresh = roc_curve(y_test, y_prob)\n",
    "roc_auc = auc(FPR, TPR)\n",
    "plt.plot(FPR,TPR, color='red',label = 'AUC = %0.2f' % roc_auc)\n",
    "plt.legend(loc = 'lower right')\n",
    "plt.plot([0, 1], [0, 1],linestyle='--')\n",
    "plt.title('ROC Curve')\n",
    "plt.ylabel('True Positive Rate')\n",
    "plt.xlabel('False Positive Rate')\n",
    "plt.show()"
   ]
  },
  {
   "cell_type": "code",
   "execution_count": 24,
   "metadata": {},
   "outputs": [],
   "source": [
    "def create_similarity(index1, not_followed):\n",
    "    \"\"\"\n",
    "    Given the user index1 and the list \"not_followed\" of users not being followed by index1,\n",
    "    this computes the corresponding jaccards and returns the created dataframe\n",
    "    \"\"\"\n",
    "    jacc1 = []\n",
    "    jacc2 = []\n",
    "    jacc3 = []\n",
    "    user2 = []\n",
    "    user1 = []\n",
    "    \n",
    "    for index2 in not_followed:\n",
    "        if index1 != index2:\n",
    "            user1.append(index1)\n",
    "            user2.append(index2)\n",
    "            jacc1.append(jaccard1.loc[index1,index2])\n",
    "            jacc2.append(jaccard2.loc[index1,index2])\n",
    "            jacc3.append(jaccard3.loc[index1,index2])\n",
    "\n",
    "    test_pd = pd.DataFrame({'User1': user1,\n",
    "                            'User2':user2,\n",
    "                            'Jaccard1': jacc1,\n",
    "                            'Jaccard2': jacc2,\n",
    "                            'Jaccard3': jacc3})\n",
    "    return test_pd  "
   ]
  },
  {
   "cell_type": "code",
   "execution_count": 25,
   "metadata": {},
   "outputs": [],
   "source": [
    "def recommend_followee(users_df, k, ind):\n",
    "    \"\"\"\n",
    "    Given user matrix user_df, returns top k recommendation ids for the user index 'ind' \n",
    "    Returns a list of user id-s that are recommended for the user\n",
    "    \"\"\"\n",
    "    \n",
    "    # List of users that are not being followed by user 'ind'. We only run the model on these users\n",
    "    not_followed = users_df.columns.values[users_df.loc[ind]==0]\n",
    "\n",
    "    # Call function to create the jaccrd similariy features for user 'ind'\n",
    "    # and all its non-followees\n",
    "    reco_df = create_similarity(ind, not_followed)\n",
    "    \n",
    "    # Running the model on the new dataframe\n",
    "    #Loading the model\n",
    "    logReg = joblib.load('logistic.joblib')\n",
    "\n",
    "    # Extracts the features to be fed into the model from the dataframe and feeds it into the model\n",
    "    data = reco_df.iloc[:, 2:]\n",
    "    y_prob = logReg.predict_proba(data)[:,1]\n",
    "    reco_df['Probability'] = y_prob\n",
    "    \n",
    "    #Computes the k largest probabilities\n",
    "    k_largest = reco_df.nlargest(k, 'Probability')\n",
    "    \n",
    "    return(list(k_largest['User2']))   "
   ]
  },
  {
   "cell_type": "code",
   "execution_count": 26,
   "metadata": {},
   "outputs": [],
   "source": [
    "def make_test(users_df, n):\n",
    "    \"\"\"\n",
    "    Creates a mock test dataset by randomly masking n followees for users who follow more than 20 other users\n",
    "    This dataset will be used to test how many of these user ids the recommendation system will capture\n",
    "    \"\"\"\n",
    "    \n",
    "    # selecting user who have at least 20 followees\n",
    "    test_users_df = users_df[users_df.sum(axis=1)>20]\n",
    "    test_users_df = test_users_df.astype(int)\n",
    "    \n",
    "    # dictionary to store the followees for these users\n",
    "    test_users_dict = {}\n",
    "    \n",
    "    # dictionary to store the masked followee ids\n",
    "    test_zero_dict = {}\n",
    "    \n",
    "    for user in test_users_df.index:\n",
    "        # values for test_users dictionary: their complete list of followees\n",
    "        test_users_dict[user] = (test_users_df.columns.values[test_users_df.loc[user]==1])\n",
    "        \n",
    "        # values for test_zero_users dictionary: list of masked followees\n",
    "        test_zero_dict[user] = random.sample(list(test_users_dict[user]), n)\n",
    "        \n",
    "    # setting zeros in the user matrix for the random list generated before \n",
    "    test_df = users_df.copy()\n",
    "    for user in test_zero_dict:\n",
    "        test_df.loc[user, test_zero_dict[user]] = 0\n",
    "        \n",
    "    return(test_zero_dict, test_df)"
   ]
  },
  {
   "cell_type": "code",
   "execution_count": 27,
   "metadata": {},
   "outputs": [],
   "source": [
    "# defining functions to calculate precision and recalls for two input sets\n",
    "def prec(predicted, correct):\n",
    "    \"\"\"Computes precision\"\"\"\n",
    "    \n",
    "    p = set(predicted)\n",
    "    c = set(correct)\n",
    "    return len(p & c)/len(p)\n",
    "\n",
    "def rec(predicted, correct):\n",
    "    \"\"\"Computes recall\"\"\"\n",
    "    \n",
    "    p = set(predicted)\n",
    "    c = set(correct)\n",
    "    return len(p & c)/len(c)"
   ]
  },
  {
   "cell_type": "code",
   "execution_count": 28,
   "metadata": {},
   "outputs": [],
   "source": [
    "def prec_recomm(test_users_df, test_zero_dict, k):\n",
    "    \"\"\" Calculates precision of the recommendation system  \n",
    "        recommends top k users\n",
    "    \"\"\"\n",
    "    \n",
    "    prec_eval = []\n",
    "\n",
    "    for user in test_zero_dict:   \n",
    "        # keeping record of actual followees of the user which we have masked for testing\n",
    "        actual_follow = test_zero_dict[user]\n",
    "        \n",
    "        recom_follow = recommend_followee(test_users_df, k, user)        \n",
    "        prec_eval.append(prec(recom_follow, actual_follow))\n",
    "        \n",
    "    return prec_eval"
   ]
  },
  {
   "cell_type": "code",
   "execution_count": 29,
   "metadata": {},
   "outputs": [],
   "source": [
    "def recall_recomm(test_users_df, test_zero_dict, k):\n",
    "    \"\"\" Calculates recall of the recommendation system  \n",
    "        recommends top k users\n",
    "    \"\"\"\n",
    "    \n",
    "    recall_eval = []\n",
    "\n",
    "    for user in test_zero_dict:      \n",
    "        # keeping record of actual followees of the user which we have masked for testing\n",
    "        actual_follow = test_zero_dict[user]\n",
    "        \n",
    "        recom_follow = recommend_followee(test_users_df, k, user)        \n",
    "        recall_eval.append(rec(recom_follow, actual_follow))\n",
    "        \n",
    "    return recall_eval"
   ]
  },
  {
   "cell_type": "code",
   "execution_count": 30,
   "metadata": {},
   "outputs": [],
   "source": [
    "# Make a test set. 10 is the numbers of masked followees\n",
    "test_zero_dict, test_users_df = make_test(users_df, 10)"
   ]
  },
  {
   "cell_type": "code",
   "execution_count": 31,
   "metadata": {},
   "outputs": [
    {
     "name": "stdout",
     "output_type": "stream",
     "text": [
      "average precision @ 1: 0.28\n",
      "average precision @ 5: 0.18\n",
      "average precision @ 10: 0.14\n",
      "average precision @ 20: 0.10\n"
     ]
    }
   ],
   "source": [
    "for k in [1,5,10,20]:   \n",
    "    p_list = prec_recomm(test_users_df, test_zero_dict, k)\n",
    "    print(\"average precision @ {}: {:1.2f}\".format(k, np.mean(p_list)))"
   ]
  },
  {
   "cell_type": "code",
   "execution_count": 33,
   "metadata": {},
   "outputs": [
    {
     "name": "stdout",
     "output_type": "stream",
     "text": [
      "average recall @ 1: 0.03\n",
      "average recall @ 5: 0.09\n",
      "average recall @ 10: 0.14\n",
      "average recall @ 20: 0.19\n"
     ]
    }
   ],
   "source": [
    "for k in [1,5,10,20]:    \n",
    "    r_list = recall_recomm(test_users_df, test_zero_dict, k)\n",
    "    print(\"average recall @ {}: {:1.2f}\".format(k, np.mean(r_list)))"
   ]
  }
 ],
 "metadata": {
  "kernelspec": {
   "display_name": "Python 3",
   "language": "python",
   "name": "python3"
  },
  "language_info": {
   "codemirror_mode": {
    "name": "ipython",
    "version": 3
   },
   "file_extension": ".py",
   "mimetype": "text/x-python",
   "name": "python",
   "nbconvert_exporter": "python",
   "pygments_lexer": "ipython3",
   "version": "3.5.6"
  }
 },
 "nbformat": 4,
 "nbformat_minor": 2
}
